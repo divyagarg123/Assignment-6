{
  "nbformat": 4,
  "nbformat_minor": 0,
  "metadata": {
    "colab": {
      "provenance": []
    },
    "kernelspec": {
      "name": "python3",
      "display_name": "Python 3"
    },
    "language_info": {
      "name": "python"
    },
    "accelerator": "GPU",
    "gpuClass": "standard"
  },
  "cells": [
    {
      "cell_type": "code",
      "execution_count": 1,
      "metadata": {
        "id": "sEYcHS4Ae3bp",
        "colab": {
          "base_uri": "https://localhost:8080/"
        },
        "outputId": "472642d9-c590-452e-fa0d-bc3b6e5343c4"
      },
      "outputs": [
        {
          "output_type": "stream",
          "name": "stdout",
          "text": [
            "CUDA Available True\n",
            "Files already downloaded and verified\n",
            "Files already downloaded and verified\n",
            "----------------------------------------------------------------\n",
            "        Layer (type)               Output Shape         Param #\n",
            "================================================================\n",
            "            Conv2d-1           [-1, 32, 32, 32]             864\n",
            "            Conv2d-2           [-1, 64, 14, 14]          18,432\n",
            "              ReLU-3           [-1, 64, 14, 14]               0\n",
            "           Dropout-4           [-1, 64, 14, 14]               0\n",
            "       BatchNorm2d-5           [-1, 64, 14, 14]             128\n",
            "            Conv2d-6             [-1, 64, 6, 6]          36,864\n",
            "            Conv2d-7            [-1, 128, 6, 6]           8,192\n",
            "              ReLU-8            [-1, 128, 6, 6]               0\n",
            "           Dropout-9            [-1, 128, 6, 6]               0\n",
            "      BatchNorm2d-10            [-1, 128, 6, 6]             256\n",
            "           Conv2d-11            [-1, 128, 2, 2]         147,456\n",
            "             ReLU-12            [-1, 128, 2, 2]               0\n",
            "          Dropout-13            [-1, 128, 2, 2]               0\n",
            "      BatchNorm2d-14            [-1, 128, 2, 2]             256\n",
            "           Conv2d-15            [-1, 256, 2, 2]          32,768\n",
            "        AvgPool2d-16            [-1, 256, 1, 1]               0\n",
            "           Linear-17                   [-1, 64]          16,448\n",
            "           Linear-18                   [-1, 10]             650\n",
            "================================================================\n",
            "Total params: 262,314\n",
            "Trainable params: 262,314\n",
            "Non-trainable params: 0\n",
            "----------------------------------------------------------------\n",
            "Input size (MB): 0.01\n",
            "Forward/backward pass size (MB): 0.82\n",
            "Params size (MB): 1.00\n",
            "Estimated Total Size (MB): 1.83\n",
            "----------------------------------------------------------------\n",
            "EPOCH: 0\n"
          ]
        },
        {
          "output_type": "stream",
          "name": "stderr",
          "text": [
            "Loss=1.6040631532669067 Batch_id = 6249 Accuracy = 28.10: 100%|██████████| 6250/6250 [01:09<00:00, 89.43it/s]\n"
          ]
        },
        {
          "output_type": "stream",
          "name": "stdout",
          "text": [
            "\n",
            " Test set: Avergae loss: 1.574443, Accuracy = 4234/10000(42.34%)\n",
            "\n",
            "EPOCH: 1\n"
          ]
        },
        {
          "output_type": "stream",
          "name": "stderr",
          "text": [
            "Loss=1.8388649225234985 Batch_id = 6249 Accuracy = 35.28: 100%|██████████| 6250/6250 [01:07<00:00, 93.12it/s]\n"
          ]
        },
        {
          "output_type": "stream",
          "name": "stdout",
          "text": [
            "\n",
            " Test set: Avergae loss: 1.411525, Accuracy = 4929/10000(49.29%)\n",
            "\n",
            "EPOCH: 2\n"
          ]
        },
        {
          "output_type": "stream",
          "name": "stderr",
          "text": [
            "Loss=2.454524040222168 Batch_id = 6249 Accuracy = 38.89: 100%|██████████| 6250/6250 [01:06<00:00, 93.78it/s]\n"
          ]
        },
        {
          "output_type": "stream",
          "name": "stdout",
          "text": [
            "\n",
            " Test set: Avergae loss: 1.372508, Accuracy = 5144/10000(51.44%)\n",
            "\n",
            "EPOCH: 3\n"
          ]
        },
        {
          "output_type": "stream",
          "name": "stderr",
          "text": [
            "Loss=1.6086325645446777 Batch_id = 6249 Accuracy = 41.08: 100%|██████████| 6250/6250 [01:06<00:00, 94.01it/s]\n"
          ]
        },
        {
          "output_type": "stream",
          "name": "stdout",
          "text": [
            "\n",
            " Test set: Avergae loss: 1.315267, Accuracy = 5352/10000(53.52%)\n",
            "\n",
            "EPOCH: 4\n"
          ]
        },
        {
          "output_type": "stream",
          "name": "stderr",
          "text": [
            "Loss=1.9979294538497925 Batch_id = 6249 Accuracy = 42.97: 100%|██████████| 6250/6250 [01:06<00:00, 94.10it/s]\n"
          ]
        },
        {
          "output_type": "stream",
          "name": "stdout",
          "text": [
            "\n",
            " Test set: Avergae loss: 1.294702, Accuracy = 5489/10000(54.89%)\n",
            "\n",
            "EPOCH: 5\n"
          ]
        },
        {
          "output_type": "stream",
          "name": "stderr",
          "text": [
            "Loss=1.2253599166870117 Batch_id = 6249 Accuracy = 43.66: 100%|██████████| 6250/6250 [01:05<00:00, 95.29it/s]\n"
          ]
        },
        {
          "output_type": "stream",
          "name": "stdout",
          "text": [
            "\n",
            " Test set: Avergae loss: 1.229461, Accuracy = 5680/10000(56.80%)\n",
            "\n",
            "EPOCH: 6\n"
          ]
        },
        {
          "output_type": "stream",
          "name": "stderr",
          "text": [
            "Loss=1.2266921997070312 Batch_id = 6249 Accuracy = 44.59: 100%|██████████| 6250/6250 [01:06<00:00, 94.62it/s]\n"
          ]
        },
        {
          "output_type": "stream",
          "name": "stdout",
          "text": [
            "\n",
            " Test set: Avergae loss: 1.186363, Accuracy = 5844/10000(58.44%)\n",
            "\n",
            "EPOCH: 7\n"
          ]
        },
        {
          "output_type": "stream",
          "name": "stderr",
          "text": [
            "Loss=1.1402201652526855 Batch_id = 6249 Accuracy = 45.26: 100%|██████████| 6250/6250 [01:05<00:00, 94.78it/s] \n"
          ]
        },
        {
          "output_type": "stream",
          "name": "stdout",
          "text": [
            "\n",
            " Test set: Avergae loss: 1.176642, Accuracy = 5871/10000(58.71%)\n",
            "\n",
            "EPOCH: 8\n"
          ]
        },
        {
          "output_type": "stream",
          "name": "stderr",
          "text": [
            "Loss=1.383479118347168 Batch_id = 6249 Accuracy = 45.89: 100%|██████████| 6250/6250 [01:06<00:00, 94.63it/s]\n"
          ]
        },
        {
          "output_type": "stream",
          "name": "stdout",
          "text": [
            "\n",
            " Test set: Avergae loss: 1.120394, Accuracy = 5978/10000(59.78%)\n",
            "\n",
            "EPOCH: 9\n"
          ]
        },
        {
          "output_type": "stream",
          "name": "stderr",
          "text": [
            "Loss=1.675317406654358 Batch_id = 6249 Accuracy = 46.97: 100%|██████████| 6250/6250 [01:05<00:00, 95.14it/s]\n"
          ]
        },
        {
          "output_type": "stream",
          "name": "stdout",
          "text": [
            "\n",
            " Test set: Avergae loss: 1.152469, Accuracy = 5932/10000(59.32%)\n",
            "\n",
            "EPOCH: 10\n"
          ]
        },
        {
          "output_type": "stream",
          "name": "stderr",
          "text": [
            "Loss=1.44412362575531 Batch_id = 6249 Accuracy = 47.04: 100%|██████████| 6250/6250 [01:06<00:00, 94.14it/s]\n"
          ]
        },
        {
          "output_type": "stream",
          "name": "stdout",
          "text": [
            "\n",
            " Test set: Avergae loss: 1.137068, Accuracy = 6059/10000(60.59%)\n",
            "\n"
          ]
        }
      ],
      "source": [
        "from model import Model\n",
        "from train import Train\n",
        "from test import Test\n",
        "import torch\n",
        "import torch.optim as optim\n",
        "from data_loader import DataLoader\n",
        "import utils as ut\n",
        "\n",
        "train_loader, test_loader = DataLoader().return_loaders()\n",
        "use_cuda = torch.cuda.is_available()\n",
        "device = torch.device(\"cuda\" if use_cuda else \"cpu\")\n",
        "EPOCHS = 11\n",
        "\n",
        "\n",
        "def train_model():\n",
        "    model = Model().to(device)\n",
        "    ut.print_model_summary(model)\n",
        "    optimizer = optim.SGD(model.parameters(), lr=0.01, momentum=0.9)\n",
        "    train = Train()\n",
        "    test = Test()\n",
        "    for epoch in range(EPOCHS):\n",
        "        print(\"EPOCH:\", epoch)\n",
        "        train.train_model(model, device, train_loader, optimizer, epoch)\n",
        "        test_losses, test_acc = test.test_model(model, device, test_loader)\n",
        "    return test_losses, test_acc\n",
        "\n",
        "\n",
        "\n",
        "\n",
        "\n",
        "bn_test_losses, bn_test_acc = train_model()"
      ]
    },
    {
      "cell_type": "code",
      "source": [],
      "metadata": {
        "id": "k8LQtWOLXJ30"
      },
      "execution_count": 1,
      "outputs": []
    }
  ]
}